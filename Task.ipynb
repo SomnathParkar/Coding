{
  "metadata": {
    "kernelspec": {
      "name": "python",
      "display_name": "Python (Pyodide)",
      "language": "python"
    },
    "language_info": {
      "codemirror_mode": {
        "name": "python",
        "version": 3
      },
      "file_extension": ".py",
      "mimetype": "text/x-python",
      "name": "python",
      "nbconvert_exporter": "python",
      "pygments_lexer": "ipython3",
      "version": "3.8"
    }
  },
  "nbformat_minor": 5,
  "nbformat": 4,
  "cells": [
    {
      "id": "2d964f7a-935c-46fe-bc90-761c1143579b",
      "cell_type": "code",
      "source": "import pandas as pd",
      "metadata": {
        "trusted": true
      },
      "outputs": [],
      "execution_count": 1
    },
    {
      "id": "426ea878-bb25-46d0-8a72-26a5e8d3eba3",
      "cell_type": "code",
      "source": "application_data = pd.read_csv('application_record.csv')\ntransaction_data = pd.read_csv('transaction_data.csv')\n",
      "metadata": {
        "trusted": true
      },
      "outputs": [],
      "execution_count": 4
    },
    {
      "id": "b4a54392-b977-4008-b72b-d3a43e75c679",
      "cell_type": "code",
      "source": "application_info = application_data.info()\ntransaction_info = transaction_data.info()",
      "metadata": {
        "trusted": true
      },
      "outputs": [
        {
          "name": "stdout",
          "output_type": "stream",
          "text": "<class 'pandas.core.frame.DataFrame'>\nRangeIndex: 438557 entries, 0 to 438556\nData columns (total 18 columns):\n #   Column               Non-Null Count   Dtype  \n---  ------               --------------   -----  \n 0   ID                   438557 non-null  int64  \n 1   CODE_GENDER          438557 non-null  object \n 2   FLAG_OWN_CAR         438557 non-null  object \n 3   FLAG_OWN_REALTY      438557 non-null  object \n 4   CNT_CHILDREN         438557 non-null  int64  \n 5   AMT_INCOME_TOTAL     438557 non-null  float64\n 6   NAME_INCOME_TYPE     438557 non-null  object \n 7   NAME_EDUCATION_TYPE  438557 non-null  object \n 8   NAME_FAMILY_STATUS   438557 non-null  object \n 9   NAME_HOUSING_TYPE    438557 non-null  object \n 10  DAYS_BIRTH           438557 non-null  int64  \n 11  DAYS_EMPLOYED        438557 non-null  int64  \n 12  FLAG_MOBIL           438557 non-null  int64  \n 13  FLAG_WORK_PHONE      438557 non-null  int64  \n 14  FLAG_PHONE           438557 non-null  int64  \n 15  FLAG_EMAIL           438557 non-null  int64  \n 16  OCCUPATION_TYPE      304354 non-null  object \n 17  CNT_FAM_MEMBERS      438557 non-null  float64\ndtypes: float64(2), int64(8), object(8)\nmemory usage: 46.8+ MB\n<class 'pandas.core.frame.DataFrame'>\nRangeIndex: 264836 entries, 0 to 264835\nData columns (total 8 columns):\n #   Column          Non-Null Count   Dtype  \n---  ------          --------------   -----  \n 0   DATE            264836 non-null  int64  \n 1   STORE_NBR       264836 non-null  int64  \n 2   LYLTY_CARD_NBR  264836 non-null  int64  \n 3   TXN_ID          264836 non-null  int64  \n 4   PROD_NBR        264836 non-null  int64  \n 5   PROD_NAME       264836 non-null  object \n 6   PROD_QTY        264836 non-null  int64  \n 7   TOT_SALES       264836 non-null  float64\ndtypes: float64(1), int64(6), object(1)\nmemory usage: 15.2+ MB\n"
        }
      ],
      "execution_count": 5
    },
    {
      "id": "5dc7c94a-df6b-436e-9294-6bce085d05f7",
      "cell_type": "code",
      "source": "application_head = application_data.head()\ntransaction_head = transaction_data.head()",
      "metadata": {
        "trusted": true
      },
      "outputs": [],
      "execution_count": 6
    },
    {
      "id": "184feffc-a75d-4b5e-a193-655b8142127b",
      "cell_type": "code",
      "source": "application_info, transaction_info, application_head, transaction_head",
      "metadata": {
        "trusted": true
      },
      "outputs": [
        {
          "execution_count": 7,
          "output_type": "execute_result",
          "data": {
            "text/plain": "(None,\n None,\n         ID CODE_GENDER FLAG_OWN_CAR FLAG_OWN_REALTY  CNT_CHILDREN  \\\n 0  5008804           M            Y               Y             0   \n 1  5008805           M            Y               Y             0   \n 2  5008806           M            Y               Y             0   \n 3  5008808           F            N               Y             0   \n 4  5008809           F            N               Y             0   \n \n    AMT_INCOME_TOTAL      NAME_INCOME_TYPE            NAME_EDUCATION_TYPE  \\\n 0          427500.0               Working               Higher education   \n 1          427500.0               Working               Higher education   \n 2          112500.0               Working  Secondary / secondary special   \n 3          270000.0  Commercial associate  Secondary / secondary special   \n 4          270000.0  Commercial associate  Secondary / secondary special   \n \n      NAME_FAMILY_STATUS  NAME_HOUSING_TYPE  DAYS_BIRTH  DAYS_EMPLOYED  \\\n 0        Civil marriage   Rented apartment      -12005          -4542   \n 1        Civil marriage   Rented apartment      -12005          -4542   \n 2               Married  House / apartment      -21474          -1134   \n 3  Single / not married  House / apartment      -19110          -3051   \n 4  Single / not married  House / apartment      -19110          -3051   \n \n    FLAG_MOBIL  FLAG_WORK_PHONE  FLAG_PHONE  FLAG_EMAIL OCCUPATION_TYPE  \\\n 0           1                1           0           0             NaN   \n 1           1                1           0           0             NaN   \n 2           1                0           0           0  Security staff   \n 3           1                0           1           1     Sales staff   \n 4           1                0           1           1     Sales staff   \n \n    CNT_FAM_MEMBERS  \n 0              2.0  \n 1              2.0  \n 2              2.0  \n 3              1.0  \n 4              1.0  ,\n     DATE  STORE_NBR  LYLTY_CARD_NBR  TXN_ID  PROD_NBR  \\\n 0  43390          1            1000       1         5   \n 1  43599          1            1307     348        66   \n 2  43605          1            1343     383        61   \n 3  43329          2            2373     974        69   \n 4  43330          2            2426    1038       108   \n \n                                   PROD_NAME  PROD_QTY  TOT_SALES  \n 0    Natural Chip        Compny SeaSalt175g         2        6.0  \n 1                  CCs Nacho Cheese    175g         3        6.3  \n 2    Smiths Crinkle Cut  Chips Chicken 170g         2        2.9  \n 3    Smiths Chip Thinly  S/Cream&Onion 175g         5       15.0  \n 4  Kettle Tortilla ChpsHny&Jlpno Chili 150g         3       13.8  )"
          },
          "metadata": {}
        }
      ],
      "execution_count": 7
    },
    {
      "id": "59d50cb2-5e3b-4da4-ae88-36efc28f1d16",
      "cell_type": "code",
      "source": "top_products = (\n    transaction_data.groupby('PROD_NAME')['TOT_SALES']\n    .sum()\n    .sort_values(ascending=False)\n    .head(3)\n    .reset_index()\n)\nloyal_customers = (\n    transaction_data.groupby('LYLTY_CARD_NBR')['TOT_SALES']\n    .sum()\n    .sort_values(ascending=False)\n    .head(10)  \n    .reset_index()\n)\nloyal_customer_details = pd.merge(\n    loyal_customers, application_data, \n    left_on='LYLTY_CARD_NBR', right_on='ID', \n    how='left'\n)\ncharacteristics_summary = loyal_customer_details[\n    ['CODE_GENDER','NAME_FAMILY_STATUS', 'NAME_INCOME_TYPE', 'OCCUPATION_TYPE']\n].mode() \n\ntop_products, characteristics_summary",
      "metadata": {
        "trusted": true
      },
      "outputs": [
        {
          "execution_count": 12,
          "output_type": "execute_result",
          "data": {
            "text/plain": "(                                  PROD_NAME  TOT_SALES\n 0          Dorito Corn Chp     Supreme 380g    40352.0\n 1    Smiths Crnkle Chip  Orgnl Big Bag 380g    36367.6\n 2  Smiths Crinkle Chips Salt & Vinegar 330g    34804.2,\n Empty DataFrame\n Columns: [CODE_GENDER, NAME_FAMILY_STATUS, NAME_INCOME_TYPE, OCCUPATION_TYPE]\n Index: [])"
          },
          "metadata": {}
        }
      ],
      "execution_count": 12
    }
  ]
}